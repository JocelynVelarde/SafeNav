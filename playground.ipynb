{
 "cells": [
  {
   "cell_type": "code",
   "execution_count": 23,
   "metadata": {},
   "outputs": [],
   "source": [
    "import requests \n",
    "import geopandas as gdp\n",
    "import pandas as pd\n",
    "#Calling HoyodeCrimen's API to retrieve a GEOJSON containing the polygons of Mexico City\n",
    "url = requests.get(\"https://hoyodecrimen.com/api/v1/sectores/geojson\")\n",
    "\n",
    "#Converting the incoming data and checking the CRS format it comes with\n",
    "filepath = url.text\n",
    "cdmx = gdp.read_file(filepath)\n",
    "\n",
    "#Conversion to Mexico City's CRS format\n",
    "cdmx = cdmx.to_crs(6362)\n",
    "\n",
    "df = pd.DataFrame(cdmx)\n",
    "\n",
    "df.to_csv(\"polygons.csv\")\n",
    "\n",
    "#For the other csv an online converter was used with the url https://hoyodecrimen.com/api/v1/sectores/all/crimes/all/period/change"
   ]
  },
  {
   "cell_type": "code",
   "execution_count": null,
   "metadata": {},
   "outputs": [],
   "source": []
  }
 ],
 "metadata": {
  "kernelspec": {
   "display_name": "base",
   "language": "python",
   "name": "python3"
  },
  "language_info": {
   "codemirror_mode": {
    "name": "ipython",
    "version": 3
   },
   "file_extension": ".py",
   "mimetype": "text/x-python",
   "name": "python",
   "nbconvert_exporter": "python",
   "pygments_lexer": "ipython3",
   "version": "3.11.7"
  }
 },
 "nbformat": 4,
 "nbformat_minor": 2
}
